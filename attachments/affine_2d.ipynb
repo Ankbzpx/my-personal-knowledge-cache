{
 "cells": [
  {
   "cell_type": "code",
   "execution_count": 1,
   "id": "b5d19238",
   "metadata": {},
   "outputs": [],
   "source": [
    "import numpy as np\n",
    "import math\n",
    "import matplotlib.pyplot as plt"
   ]
  },
  {
   "cell_type": "code",
   "execution_count": 2,
   "id": "bacc4dab",
   "metadata": {},
   "outputs": [],
   "source": [
    "def make_affine(theta, s, t):\n",
    "    return np.concatenate((np.append(s[0] * np.array([math.cos(theta), -math.sin(theta)]), 0),\n",
    "                           np.append(s[1] * np.array([math.sin(theta), math.cos(theta)]), 0),\n",
    "                           np.array([t[0], t[1], 1]))).reshape(3, 3).T"
   ]
  },
  {
   "cell_type": "code",
   "execution_count": 3,
   "id": "983edac0",
   "metadata": {},
   "outputs": [
    {
     "name": "stdout",
     "output_type": "stream",
     "text": [
      "[[ 1.73205081  1.5         1.        ]\n",
      " [-1.          2.59807621  0.        ]\n",
      " [ 0.          0.          1.        ]]\n",
      "[[ 2.          0.8660254   0.        ]\n",
      " [-3.46410162  0.5         5.        ]\n",
      " [ 0.          0.          1.        ]]\n",
      "[[ 0.27029066 -0.86776748 10.        ]\n",
      " [ 0.13016512  1.80193774 -2.        ]\n",
      " [ 0.          0.          1.        ]]\n"
     ]
    }
   ],
   "source": [
    "t1 = make_affine(math.pi/6, [2, 3], [1, 0])\n",
    "t2 = make_affine(math.pi/3, [4, 1], [0, 5])\n",
    "t3 = make_affine(-math.pi/7, [0.3, 2], [10, -2])\n",
    "\n",
    "print(t1)\n",
    "print(t2)\n",
    "print(t3)"
   ]
  },
  {
   "cell_type": "code",
   "execution_count": 4,
   "id": "3283a0ce",
   "metadata": {},
   "outputs": [],
   "source": [
    "t_compose = np.linalg.inv(t1) @ t3 @ t2 @ t1"
   ]
  },
  {
   "cell_type": "code",
   "execution_count": 5,
   "id": "eef056e2",
   "metadata": {},
   "outputs": [
    {
     "data": {
      "text/plain": [
       "array([[ 5.5900843 ,  3.6635615 ,  3.29709154],\n",
       "       [-2.22639045, -1.02977309,  1.66469906],\n",
       "       [ 0.        ,  0.        ,  1.        ]])"
      ]
     },
     "execution_count": 5,
     "metadata": {},
     "output_type": "execute_result"
    }
   ],
   "source": [
    "t_compose"
   ]
  },
  {
   "cell_type": "code",
   "execution_count": 6,
   "id": "86144b93",
   "metadata": {},
   "outputs": [],
   "source": [
    "coords = np.array([[0, 0, 1], [0, 1, 1], [2, 1, 1], [2, 0, 1], [0, 0, 1]])"
   ]
  },
  {
   "cell_type": "code",
   "execution_count": 7,
   "id": "26f5fec2",
   "metadata": {},
   "outputs": [
    {
     "data": {
      "text/plain": [
       "[<matplotlib.lines.Line2D at 0x7f97450f71f0>]"
      ]
     },
     "execution_count": 7,
     "metadata": {},
     "output_type": "execute_result"
    },
    {
     "data": {
      "image/png": "[encoded data removed]",
      "text/plain": [
       "<Figure size 432x288 with 1 Axes>"
      ]
     },
     "metadata": {
      "needs_background": "light"
     },
     "output_type": "display_data"
    }
   ],
   "source": [
    "plt.plot(coords[:, 0], coords[:, 1])"
   ]
  },
  {
   "cell_type": "code",
   "execution_count": 8,
   "id": "f633d791",
   "metadata": {},
   "outputs": [],
   "source": [
    "coords_compose = (t_compose @ coords.T).T"
   ]
  },
  {
   "cell_type": "code",
   "execution_count": 9,
   "id": "f50a7bd4",
   "metadata": {},
   "outputs": [
    {
     "data": {
      "text/plain": [
       "[<matplotlib.lines.Line2D at 0x7f9744ff8490>]"
      ]
     },
     "execution_count": 9,
     "metadata": {},
     "output_type": "execute_result"
    },
    {
     "data": {
      "image/png": "[encoded data removed]",
      "text/plain": [
       "<Figure size 432x288 with 1 Axes>"
      ]
     },
     "metadata": {
      "needs_background": "light"
     },
     "output_type": "display_data"
    }
   ],
   "source": [
    "plt.plot(coords_compose[:, 0], coords_compose[:, 1])"
   ]
  },
  {
   "cell_type": "code",
   "execution_count": 10,
   "id": "f0eae3ba",
   "metadata": {},
   "outputs": [],
   "source": [
    "def affine_decompose_trs(affine):\n",
    "    s0 = math.sqrt(affine[0, 0] ** 2 + affine[1, 0] ** 2)\n",
    "    s1 = math.sqrt(affine[0, 1] ** 2 + affine[1, 1] ** 2)\n",
    "    \n",
    "    t = np.eye(3)\n",
    "    t[:2, 2] = affine[:2, 2]\n",
    "    \n",
    "    r = affine\n",
    "    r[:2, 2] = 0\n",
    "    r[0, 0] /= s0\n",
    "    r[1, 0] /= s0\n",
    "    r[0, 1] /= s1\n",
    "    r[1, 1] /= s1\n",
    "    \n",
    "    s = np.eye(3)\n",
    "    s[0, 0] = s0\n",
    "    s[1, 1] = s1\n",
    "    \n",
    "    return t, r, s"
   ]
  },
  {
   "cell_type": "code",
   "execution_count": 11,
   "id": "69335548",
   "metadata": {},
   "outputs": [
    {
     "name": "stdout",
     "output_type": "stream",
     "text": [
      "[[1.         0.         3.29709154]\n",
      " [0.         1.         1.66469906]\n",
      " [0.         0.         1.        ]]\n",
      "[[ 0.9290283   0.96269227  0.        ]\n",
      " [-0.37000868 -0.27059859  0.        ]\n",
      " [ 0.          0.          1.        ]]\n",
      "[[6.01713029 0.         0.        ]\n",
      " [0.         3.80553748 0.        ]\n",
      " [0.         0.         1.        ]]\n"
     ]
    }
   ],
   "source": [
    "t, r, s = affine_decompose_trs(np.copy(t_compose))\n",
    "\n",
    "print(t)\n",
    "print(r)\n",
    "print(s)"
   ]
  },
  {
   "cell_type": "code",
   "execution_count": 12,
   "id": "23294358",
   "metadata": {},
   "outputs": [],
   "source": [
    "coords_trs = (t @ r @ s @ coords.T).T"
   ]
  },
  {
   "cell_type": "code",
   "execution_count": 13,
   "id": "d6a00cb1",
   "metadata": {},
   "outputs": [
    {
     "data": {
      "text/plain": [
       "[<matplotlib.lines.Line2D at 0x7f9744f68ca0>]"
      ]
     },
     "execution_count": 13,
     "metadata": {},
     "output_type": "execute_result"
    },
    {
     "data": {
      "image/png": "[encoded data removed]",
      "text/plain": [
       "<Figure size 432x288 with 1 Axes>"
      ]
     },
     "metadata": {
      "needs_background": "light"
     },
     "output_type": "display_data"
    }
   ],
   "source": [
    "plt.plot(coords_trs[:, 0], coords_trs[:, 1])"
   ]
  },
  {
   "cell_type": "code",
   "execution_count": 14,
   "id": "7a7cf61b",
   "metadata": {},
   "outputs": [],
   "source": [
    "from scipy.spatial.transform import Rotation as R"
   ]
  },
  {
   "cell_type": "code",
   "execution_count": 15,
   "id": "0f78aa4d",
   "metadata": {},
   "outputs": [],
   "source": [
    "r_new = R.from_matrix(r)"
   ]
  },
  {
   "cell_type": "code",
   "execution_count": 16,
   "id": "ad9dbdf5",
   "metadata": {},
   "outputs": [
    {
     "data": {
      "text/plain": [
       "array([[ 0.59832105,  0.80125646,  0.        ],\n",
       "       [-0.80125646,  0.59832105, -0.        ],\n",
       "       [-0.        ,  0.        ,  1.        ]])"
      ]
     },
     "execution_count": 16,
     "metadata": {},
     "output_type": "execute_result"
    }
   ],
   "source": [
    "r_new.as_matrix()"
   ]
  },
  {
   "cell_type": "code",
   "execution_count": 17,
   "id": "12b9157c",
   "metadata": {},
   "outputs": [],
   "source": [
    "coords_trs_new = (t @ r_new.as_matrix() @ s @ coords.T).T"
   ]
  },
  {
   "cell_type": "code",
   "execution_count": 18,
   "id": "dbe873fa",
   "metadata": {},
   "outputs": [
    {
     "data": {
      "text/plain": [
       "[<matplotlib.lines.Line2D at 0x7f9718680d00>]"
      ]
     },
     "execution_count": 18,
     "metadata": {},
     "output_type": "execute_result"
    },
    {
     "data": {
      "image/png": "[encoded data removed]",
      "text/plain": [
       "<Figure size 432x288 with 1 Axes>"
      ]
     },
     "metadata": {
      "needs_background": "light"
     },
     "output_type": "display_data"
    }
   ],
   "source": [
    "plt.plot(coords_trs_new[:, 0], coords_trs_new[:, 1])"
   ]
  },
  {
   "cell_type": "code",
   "execution_count": null,
   "id": "aa40ef27",
   "metadata": {},
   "outputs": [],
   "source": []
  }
 ],
 "metadata": {
  "kernelspec": {
   "display_name": "Python 3 (ipykernel)",
   "language": "python",
   "name": "python3"
  },
  "language_info": {
   "codemirror_mode": {
    "name": "ipython",
    "version": 3
   },
   "file_extension": ".py",
   "mimetype": "text/x-python",
   "name": "python",
   "nbconvert_exporter": "python",
   "pygments_lexer": "ipython3",
   "version": "3.8.11"
  }
 },
 "nbformat": 4,
 "nbformat_minor": 5
}
